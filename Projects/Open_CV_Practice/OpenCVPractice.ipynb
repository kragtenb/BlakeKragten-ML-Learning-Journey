{
  "cells": [
    {
      "cell_type": "markdown",
      "metadata": {
        "id": "view-in-github"
      },
      "source": [
        "<a href=\"https://colab.research.google.com/github/kragtenb/SelfDriving-RC-deep-learning/blob/main/OpenCVPractice.ipynb\" target=\"_parent\"><img src=\"https://colab.research.google.com/assets/colab-badge.svg\" alt=\"Open In Colab\"/></a>"
      ]
    },
    {
      "cell_type": "markdown",
      "metadata": {
        "id": "k2c0lhoa9cXT"
      },
      "source": [
        "# Image Transformations\n",
        "\n",
        "## Task 1:\n",
        "\n",
        "1. Load an image of your choice using cv2.imread().\n",
        "Use cv2.resize() to resize the image to half its original size.\n",
        "2. Select a region in the original image and create a cropped version.\n",
        "3. Display the original, resized, and cropped images using cv2.imshow()."
      ]
    },
    {
      "cell_type": "code",
      "execution_count": null,
      "metadata": {
        "id": "exnTqIUw9oc3"
      },
      "outputs": [],
      "source": [
        "import cv2 as cv\n",
        "import matplotlib.pyplot as plt"
      ]
    },
    {
      "cell_type": "code",
      "execution_count": null,
      "metadata": {
        "id": "YKQ74j2e-OMB"
      },
      "outputs": [],
      "source": [
        "image_file = \"/home/blake/SelfDriving-RC-deep-learning/TrainingData/Images/2024_03_25_T_11_08_55.jpg\"\n",
        "image = cv.imread(image_file)\n",
        "\n",
        "# If your image is in BGR format (OpenCV default), convert it to RGB for matplotlib\n",
        "# if image.shape[2] == 3:\n",
        "#  image = cv.cvtColor(image, cv.COLOR_BGR2RGB)\n",
        "\n",
        "\n",
        "def display_image(image):\n",
        "    plt.imshow(cv.cvtColor(image, cv.COLOR_BGR2RGB))\n",
        "    plt.show()\n",
        "\n",
        "\n",
        "# Display the image\n",
        "plt.imshow(image)\n",
        "plt.show()"
      ]
    },
    {
      "cell_type": "code",
      "execution_count": null,
      "metadata": {
        "id": "mmo48DGy_R6a"
      },
      "outputs": [],
      "source": [
        "image_file = \"/home/blake/SelfDriving-RC-deep-learning/TrainingData/Images/2024_03_25_T_11_05_58.jpg\"\n",
        "image = cv.imread(image_file)\n",
        "\n",
        "# resize the image to half\n",
        "image_height = int(image.shape[0] / 2)\n",
        "image_width = int(image.shape[1] / 2)\n",
        "resized = cv.resize(image, (image_width, image_height))\n",
        "\n",
        "# Resize to half the original size\n",
        "half_size_image = cv.resize(image, (0, 0), fx=2, fy=2)\n",
        "\n",
        "# plt.imshow(resized)\n",
        "plt.imshow(half_size_image)\n",
        "plt.show()"
      ]
    },
    {
      "cell_type": "code",
      "execution_count": null,
      "metadata": {
        "id": "KM8KDKGeBQRy"
      },
      "outputs": [],
      "source": [
        "# Crop image\n",
        "\n",
        "# Top left corner\n",
        "cropped_image = image[: image.shape[0] // 4, : image.shape[1] // 4, :]"
      ]
    },
    {
      "cell_type": "code",
      "execution_count": null,
      "metadata": {
        "id": "pMVc3NfEB8nq"
      },
      "outputs": [],
      "source": [
        "display_image(cropped_image)"
      ]
    },
    {
      "cell_type": "markdown",
      "metadata": {
        "id": "w2wo-RDnGNpy"
      },
      "source": [
        "#Task 2:\n",
        "\n",
        "1. Load another image.\n",
        "2. Resize it to a specific resolution (e.g., 300x150). Pay attention to the interpolation parameter when resizing. Experiment with cv2.INTER_AREA and cv2.INTER_LINEAR to see the differences."
      ]
    },
    {
      "cell_type": "code",
      "execution_count": null,
      "metadata": {
        "id": "mBOEXqGHGQuh"
      },
      "outputs": [],
      "source": [
        "resized_area = cv.resize(\n",
        "    image, (image.shape[1] // 8, image.shape[0] // 8), interpolation=cv.INTER_AREA\n",
        ")\n",
        "\n",
        "plt.imshow(resized_area)\n",
        "plt.show()"
      ]
    },
    {
      "cell_type": "code",
      "execution_count": null,
      "metadata": {
        "id": "Knmia_i1GeY-"
      },
      "outputs": [],
      "source": [
        "resized_linear = cv.resize(\n",
        "    image, (image.shape[1] // 8, image.shape[0] // 8), interpolation=cv.INTER_LINEAR\n",
        ")\n",
        "\n",
        "plt.imshow(resized_linear)\n",
        "plt.show()"
      ]
    },
    {
      "cell_type": "markdown",
      "metadata": {
        "id": "lUcKoj7oHKn3"
      },
      "source": [
        "# Rotation & Flipping\n",
        "\n",
        "## Task 3:\n",
        "\n",
        "1. Use cv2.flip() to create flipped versions of an image, both horizontally and vertically. Experiment with different flipCode values.\n"
      ]
    },
    {
      "cell_type": "code",
      "execution_count": null,
      "metadata": {
        "id": "ya25QaAnHSXT"
      },
      "outputs": [],
      "source": [
        "flip_0 = cv.flip(image, 0)\n",
        "flip_1 = cv.flip(image, 1)\n",
        "flip_neg_1 = cv.flip(image, -1)\n",
        "\n",
        "plt.title(\"Flip Upside Down\")\n",
        "plt.imshow(flip_0)\n",
        "plt.show()\n",
        "plt.title(\"Flip left to right\")\n",
        "plt.imshow(flip_1)\n",
        "plt.show()\n",
        "plt.title(\"Flip both left to right and upsidedown\")\n",
        "plt.imshow(flip_neg_1)\n",
        "plt.show()"
      ]
    },
    {
      "cell_type": "markdown",
      "metadata": {
        "id": "QNa4ww7rIf0W"
      },
      "source": [
        "# Task 4\n",
        "\n",
        "1. Load an image.\n",
        "2. Calculate a rotation matrix using cv2.getRotationMatrix2D() with a center point, an angle (say, 45 degrees), and a scaling factor.\n",
        "3. Apply the rotation using cv2.warpAffine() and display the results."
      ]
    },
    {
      "cell_type": "markdown",
      "metadata": {
        "id": "1CkBg8hlJzu_"
      },
      "source": []
    },
    {
      "cell_type": "code",
      "execution_count": null,
      "metadata": {
        "id": "oRhFvedRIkWO"
      },
      "outputs": [],
      "source": [
        "rotation_matrix = cv.getRotationMatrix2D(\n",
        "    (image.shape[1] // 2, image.shape[0] // 2), 45, 1\n",
        ")\n",
        "rotated_image = cv.warpAffine(image, rotation_matrix, (image.shape[1], image.shape[0]))\n",
        "plt.imshow(rotated_image)\n",
        "plt.title(\"Rotated Image\")\n",
        "plt.show()"
      ]
    },
    {
      "cell_type": "markdown",
      "metadata": {
        "id": "v1HXzb3fKaGW"
      },
      "source": [
        "# Color Conversion\n",
        "\n",
        "## Task 5\n",
        "\n",
        "1. Load a color image.\n",
        "2. Convert it to grayscale using cv2.cvtColor(image, cv2.COLOR_BGR2GRAY).\n",
        "3. Display both the original and grayscale versions."
      ]
    },
    {
      "cell_type": "code",
      "execution_count": null,
      "metadata": {
        "id": "O5G46FQoKi1_"
      },
      "outputs": [],
      "source": [
        "grayscale_image = cv.cvtColor(image, cv.COLOR_BGR2GRAY)\n",
        "\n",
        "plt.title(\"Greyscale\")\n",
        "display_image(grayscale_image)"
      ]
    },
    {
      "cell_type": "markdown",
      "metadata": {
        "id": "4sbPLWD7L1DW"
      },
      "source": [
        "# Exploring HSV\n",
        "\n",
        "## Task 6\n",
        "\n",
        "1. Convert the color image to the HSV color space using cv2.cvtColor(image, cv2.COLOR_BGR2HSV)."
      ]
    },
    {
      "cell_type": "code",
      "execution_count": null,
      "metadata": {
        "id": "0MUGEmNYL3jf"
      },
      "outputs": [],
      "source": [
        "hsv_image = cv.cvtColor(image, cv.COLOR_BGR2HSV)\n",
        "plt.title(\"HSV Image BGR2HSV\")\n",
        "plt.imshow(hsv_image)\n",
        "plt.show()\n",
        "\n",
        "hsv_image = cv.cvtColor(cv.cvtColor(image, cv.COLOR_BGR2RGB), cv.COLOR_RGB2HSV)\n",
        "plt.title(\"HSV Image RGB2HSV\")\n",
        "plt.imshow(hsv_image)\n",
        "plt.show()"
      ]
    },
    {
      "cell_type": "code",
      "execution_count": null,
      "metadata": {
        "id": "TEVxTMDVMHki"
      },
      "outputs": [],
      "source": [
        "import cv2\n",
        "import numpy as np\n",
        "import matplotlib.pyplot as plt\n",
        "\n",
        "# Create a gradient test image\n",
        "test_image = np.linspace(0, 255, 256).astype(\"uint8\")\n",
        "test_image = np.tile(test_image, (256, 1))\n",
        "\n",
        "# Calculate gradients using Sobel filters\n",
        "sobelx = cv2.Sobel(test_image, cv2.CV_64F, 1, 0, ksize=3)  # Horizontal gradients\n",
        "sobely = cv2.Sobel(test_image, cv2.CV_64F, 0, 1, ksize=3)  # Vertical gradients\n",
        "\n",
        "# Calculate gradient magnitude\n",
        "magnitude = np.sqrt(sobelx**2 + sobely**2)\n",
        "\n",
        "# Visualize results\n",
        "plt.figure(figsize=(10, 6))\n",
        "\n",
        "plt.subplot(221), plt.imshow(test_image, cmap=\"gray\"), plt.title(\"Original\")\n",
        "plt.subplot(222), plt.imshow(sobelx, cmap=\"gray\"), plt.title(\"Sobel X\")\n",
        "plt.subplot(223), plt.imshow(sobely, cmap=\"gray\"), plt.title(\"Sobel Y\")\n",
        "plt.subplot(224), plt.imshow(magnitude, cmap=\"gray\"), plt.title(\"Gradient Magnitude\")\n",
        "plt.show()"
      ]
    },
    {
      "cell_type": "markdown",
      "metadata": {
        "id": "hdu-rkRZgCw9"
      },
      "source": [
        "# Practice Problems For Noise Reduction On Images Using OpenCV\n",
        "\n",
        "## Problem 1: Noise Reduction Technique Selection\n",
        "\n",
        "You're working with a grayscale image captured in low-light conditions. The image suffers from both Gaussian noise (random variations in pixel intensity) and occasional salt-and-pepper noise (random black and white pixels).\n",
        "\n",
        "Which noise reduction technique would be most appropriate as an initial step? Explain your reasoning.\n",
        "A) Gaussian Blurring\n",
        "B) Median Blurring\n",
        "C) Bilateral Filtering\n",
        "Briefly discuss the pros and cons of using the other two techniques (options B and C) for this scenario."
      ]
    },
    {
      "cell_type": "code",
      "execution_count": null,
      "metadata": {
        "id": "ZNbwAsYTgCw9"
      },
      "outputs": [],
      "source": [
        "salt_n_pepper_image = cv.imread(\"Images/salt_n_pepper_noise.png\")\n",
        "display_image(salt_n_pepper_image)"
      ]
    },
    {
      "cell_type": "code",
      "execution_count": null,
      "metadata": {
        "id": "l4AWIEGXgCw-"
      },
      "outputs": [],
      "source": [
        "fig, axes = plt.subplots(nrows=2, ncols=2, figsize=(15, 15))\n",
        "gaussian_blurred_image_3x3 = cv.GaussianBlur(salt_n_pepper_image, (3, 3), 0)\n",
        "gaussian_blurred_image_5x5 = cv.GaussianBlur(salt_n_pepper_image, (5, 5), 0)\n",
        "gaussian_blurred_image_7x7 = cv.GaussianBlur(salt_n_pepper_image, (7, 7), 0)\n",
        "axes[0, 0].set_title(\"gaussian_blurred_image_3x3\")\n",
        "axes[0, 0].imshow(gaussian_blurred_image_3x3)\n",
        "axes[0, 1].set_title(\"gaussian_blurred_image_5x5\")\n",
        "axes[0, 1].imshow(gaussian_blurred_image_5x5)\n",
        "axes[1, 0].set_title(\"gaussian_blurred_image_7x7\")\n",
        "axes[1, 0].imshow(gaussian_blurred_image_7x7)\n",
        "\n",
        "plt.tight_layout()\n",
        "plt.show()"
      ]
    },
    {
      "cell_type": "markdown",
      "metadata": {
        "id": "fsapyH7ugCw_"
      },
      "source": [
        "# Gaussian Blur\n",
        "This would be used when there are a lot of high conflicting colors sporadically throughput the image. This is also an efficient blurring technique for computer resources. These can me different random colors and are usually associated with sensor or network malfunction or slowness. Guassian blur can help reduce this noise. Creating more continues edged colors and better edge defining.\n",
        "\n"
      ]
    },
    {
      "cell_type": "code",
      "execution_count": null,
      "metadata": {
        "id": "gA5YaXlugCw_"
      },
      "outputs": [],
      "source": [
        "fig, axes = plt.subplots(nrows=2, ncols=2, figsize=(15, 15))\n",
        "median_blurred_image_3x3 = cv.medianBlur(salt_n_pepper_image, 3)\n",
        "median_blurred_image_5x5 = cv.medianBlur(salt_n_pepper_image, 5)\n",
        "median_blurred_image_7x7 = cv.medianBlur(salt_n_pepper_image, 7)\n",
        "axes[0, 0].set_title(\"median_blurred_image_3x3\")\n",
        "axes[0, 0].imshow(median_blurred_image_3x3)\n",
        "axes[0, 1].set_title(\"median_blurred_image_5x5\")\n",
        "axes[0, 1].imshow(median_blurred_image_5x5)\n",
        "axes[1, 0].set_title(\"median_blurred_image_7x7\")\n",
        "axes[1, 0].imshow(median_blurred_image_7x7)\n",
        "\n",
        "plt.tight_layout()\n",
        "plt.show()"
      ]
    },
    {
      "cell_type": "markdown",
      "metadata": {
        "id": "vU7uNfDLgCxA"
      },
      "source": [
        "# Median Blur\n",
        "\n",
        "This will remove blacks and whites that a placed throughout the image. This should be used when this salt and pepper effect is seen. As seen in kernel 3, the image can be cleaned up while still keeping the edges sharp"
      ]
    },
    {
      "cell_type": "code",
      "execution_count": null,
      "metadata": {
        "id": "nlnxDxDngCxA"
      },
      "outputs": [],
      "source": [
        "fig, axes = plt.subplots(nrows=3, ncols=2, figsize=(15, 20))\n",
        "bilateral_75 = cv.bilateralFilter(\n",
        "    salt_n_pepper_image, d=9, sigmaColor=75, sigmaSpace=75\n",
        ")\n",
        "bilateral_75_d_25 = cv.bilateralFilter(\n",
        "    salt_n_pepper_image, d=25, sigmaColor=75, sigmaSpace=75\n",
        ")\n",
        "bilateral_150 = cv.bilateralFilter(\n",
        "    salt_n_pepper_image, d=9, sigmaColor=150, sigmaSpace=150\n",
        ")\n",
        "bilateral_35 = cv.bilateralFilter(\n",
        "    salt_n_pepper_image, d=9, sigmaColor=35, sigmaSpace=35\n",
        ")\n",
        "bilateral_75_150 = cv.bilateralFilter(\n",
        "    salt_n_pepper_image, d=9, sigmaColor=75, sigmaSpace=150\n",
        ")\n",
        "bilateral_150_75 = cv.bilateralFilter(\n",
        "    salt_n_pepper_image, d=9, sigmaColor=150, sigmaSpace=75\n",
        ")\n",
        "axes[0, 0].set_title(\"bilateral_75\")\n",
        "axes[0, 0].imshow(bilateral_75)\n",
        "axes[0, 1].set_title(\"bilateral_75_d_25\")\n",
        "axes[0, 1].imshow(bilateral_75_d_25)\n",
        "axes[1, 0].set_title(\"bilateral_150\")\n",
        "axes[1, 0].imshow(bilateral_150)\n",
        "axes[1, 1].set_title(\"bilateral_35\")\n",
        "axes[1, 1].imshow(bilateral_35)\n",
        "axes[2, 0].set_title(\"bilateral_75_150\")\n",
        "axes[2, 0].imshow(bilateral_75_150)\n",
        "axes[2, 1].set_title(\"bilateral_150_75\")\n",
        "axes[2, 1].imshow(bilateral_150_75)\n",
        "\n",
        "plt.tight_layout()\n",
        "plt.show()"
      ]
    },
    {
      "cell_type": "markdown",
      "metadata": {
        "id": "-vbId2MxgCxB"
      },
      "source": [
        "# Answer\n",
        "Median filter does the best here as guassian filter blurs the salt and pepper pixels.\n",
        "\n",
        "Bilaterial doesn't do much to this image."
      ]
    },
    {
      "cell_type": "markdown",
      "metadata": {
        "id": "UrDacSolgCxB"
      },
      "source": [
        "# Problem 2: Kernel Size Selection\n",
        "\n",
        "You're tasked with denoising a high-resolution image containing a detailed architectural drawing. The drawing consists of fine lines and intricate details.\n",
        "\n",
        "1. What factors would you consider when choosing a kernel size for Gaussian blurring?\n",
        "2. Given your focus on preserving details, would you likely choose a smaller or larger kernel size? Why?\n",
        "\n",
        "\n",
        "## Answer\n",
        "The larger the kernel size, the less fine detail lines are retained. As seen in the code below. the 3x3 contails a lot of the small deals still but the 9x9 starts to make it harder to see those details. One example is the balcony on the middle left of the image. 3x3 you can still see the railing pillars while 9x9 you can't see the pillars at all really.\n",
        "\n",
        "Preserving details would make me use a smaller kernel size."
      ]
    },
    {
      "cell_type": "code",
      "execution_count": null,
      "metadata": {
        "id": "D6xwTVN9gCxB"
      },
      "outputs": [],
      "source": [
        "architecture_image = cv.imread(\"Images/architecture_drawing.png\")\n",
        "architecture_image = cv.cvtColor(architecture_image, cv.COLOR_BGR2RGB)\n",
        "plt.imshow(architecture_image)\n",
        "plt.show()"
      ]
    },
    {
      "cell_type": "code",
      "execution_count": null,
      "metadata": {
        "id": "FRjW2kocgCxC"
      },
      "outputs": [],
      "source": [
        "fig, axes = plt.subplots(nrows=3, ncols=2, figsize=(10, 15))\n",
        "gaussian_blurred_arch_image_1 = cv.GaussianBlur(architecture_image, (1, 1), 0)\n",
        "gaussian_blurred_arch_image_3 = cv.GaussianBlur(architecture_image, (3, 3), 0)\n",
        "gaussian_blurred_arch_image_5 = cv.GaussianBlur(architecture_image, (5, 5), 0)\n",
        "gaussian_blurred_arch_image_7 = cv.GaussianBlur(architecture_image, (7, 7), 0)\n",
        "gaussian_blurred_arch_image_9 = cv.GaussianBlur(architecture_image, (9, 9), 0)\n",
        "axes[0, 0].set_title(\"Original\")\n",
        "axes[0, 0].imshow(architecture_image)\n",
        "axes[0, 1].set_title(\"1x1\")\n",
        "axes[0, 1].imshow(gaussian_blurred_arch_image_1)\n",
        "axes[1, 0].set_title(\"3x3\")\n",
        "axes[1, 0].imshow(gaussian_blurred_arch_image_3)\n",
        "axes[1, 1].set_title(\"5x5\")\n",
        "axes[1, 1].imshow(gaussian_blurred_arch_image_5)\n",
        "axes[2, 0].set_title(\"7x7\")\n",
        "axes[2, 0].imshow(gaussian_blurred_arch_image_7)\n",
        "axes[2, 1].set_title(\"9x9\")\n",
        "axes[2, 1].imshow(gaussian_blurred_arch_image_9)\n",
        "\n",
        "plt.tight_layout\n",
        "plt.show()"
      ]
    },
    {
      "cell_type": "code",
      "execution_count": null,
      "metadata": {
        "id": "R4qaZWWZgCxC"
      },
      "outputs": [],
      "source": [
        "rc_image = cv.imread(\"TrainingData/Images/2024_03_25_T_11_09_06.jpg\")\n",
        "rc_image = cv.cvtColor(rc_image, cv.COLOR_BGR2GRAY)\n",
        "\n",
        "display_image(rc_image)"
      ]
    },
    {
      "cell_type": "markdown",
      "metadata": {
        "id": "Weqg_TbNgCxD"
      },
      "source": [
        "# Canny Edge Dection\n",
        "\n",
        "## 1 Apply blurring to reduce noise of image"
      ]
    },
    {
      "cell_type": "code",
      "execution_count": null,
      "metadata": {
        "id": "XKHPFXvQgCxD"
      },
      "outputs": [],
      "source": [
        "blurred_rc_image = cv.GaussianBlur(rc_image, (9, 9), 0)\n",
        "\n",
        "display_image(blurred_rc_image)"
      ]
    },
    {
      "cell_type": "markdown",
      "metadata": {
        "id": "ogcnVEHkgCxE"
      },
      "source": [
        "## 2. Apply gradiate intensity to applify edges"
      ]
    },
    {
      "cell_type": "code",
      "execution_count": null,
      "metadata": {
        "id": "FmdAuX1LgCxE"
      },
      "outputs": [],
      "source": [
        "# Calculate the gradients using Sobel filters\n",
        "sobelx = cv2.Sobel(blurred_rc_image, cv2.CV_64F, 1, 0, ksize=5)\n",
        "sobely = cv2.Sobel(blurred_rc_image, cv2.CV_64F, 0, 1, ksize=5)\n",
        "\n",
        "# Define the Roberts kernels\n",
        "kernel_x = np.array([[0, 1], [-1, 0]])\n",
        "kernel_y = np.array([[1, 0], [0, -1]])\n",
        "\n",
        "# Apply filtering. This remains the same as with Prewitt\n",
        "roberts_x = cv2.filter2D(blurred_rc_image, -1, kernel_x)\n",
        "roberts_y = cv2.filter2D(blurred_rc_image, -1, kernel_y)\n",
        "\n",
        "# Define the Prewitt kernels (replace with Roberts kernels if desired)\n",
        "kernel_x = np.array([[-1, 0, 1], [-1, 0, 1], [-1, 0, 1]])\n",
        "kernel_y = np.array([[-1, -1, -1], [0, 0, 0], [1, 1, 1]])\n",
        "\n",
        "# Apply filtering (similar to using cv2.Sobel)\n",
        "prewitt_x = cv2.filter2D(blurred_rc_image, -1, kernel_x)\n",
        "prewitt_y = cv2.filter2D(blurred_rc_image, -1, kernel_y)\n",
        "\n",
        "# Optionally calculate the magnitude of the gradient\n",
        "magnitude = np.sqrt(sobelx**2 + sobely**2)\n",
        "\n",
        "# Visualize results\n",
        "plt.figure(figsize=(10, 6))\n",
        "\n",
        "plt.subplot(421), plt.imshow(blurred_rc_image, cmap=\"gray\"), plt.title(\"Original\")\n",
        "plt.subplot(422), plt.imshow(sobelx, cmap=\"gray\"), plt.title(\"Sobel X\")\n",
        "plt.subplot(423), plt.imshow(sobely, cmap=\"gray\"), plt.title(\"Sobel Y\")\n",
        "plt.subplot(424), plt.imshow(roberts_x, cmap=\"gray\"), plt.title(\"Roberts X\")\n",
        "plt.subplot(425), plt.imshow(roberts_y, cmap=\"gray\"), plt.title(\"Roberts Y\")\n",
        "plt.subplot(426), plt.imshow(prewitt_x, cmap=\"gray\"), plt.title(\"Prewitt X\")\n",
        "plt.subplot(427), plt.imshow(prewitt_y, cmap=\"gray\"), plt.title(\"Prewitt Y\")\n",
        "plt.subplot(428), plt.imshow(magnitude, cmap=\"gray\"), plt.title(\"Gradient Magnitude\")\n",
        "plt.show()"
      ]
    },
    {
      "cell_type": "code",
      "execution_count": null,
      "metadata": {
        "id": "nDFjhalqgCxF"
      },
      "outputs": [],
      "source": [
        "canny_edges = cv.Canny(blurred_rc_image, 40, 80)\n",
        "\n",
        "fig, axes = plt.subplots(nrows=1, ncols=2, figsize=(10, 10))\n",
        "\n",
        "axes[0].set_title(\"Original\")\n",
        "axes[0].imshow(rc_image)\n",
        "\n",
        "axes[1].set_title(\"Canny Edges\")\n",
        "axes[1].imshow(canny_edges)\n",
        "\n",
        "plt.tight_layout()\n",
        "plt.show()"
      ]
    },
    {
      "cell_type": "markdown",
      "metadata": {
        "id": "NDjx7xJogCxG"
      },
      "source": [
        "# Feature Detection With OpenCV"
      ]
    },
    {
      "cell_type": "markdown",
      "metadata": {
        "id": "d54DpZRbgCxG"
      },
      "source": [
        "# SIFT Scale-Invariant Feature Transform\n",
        "\n",
        "1. Scale-Space Construction:\n",
        "\n",
        "SIFT starts by creating a multi-scale representation of the image called a scale-space. This is achieved by applying a Gaussian filter at different scales (blurring with increasing kernel sizes) to the original image. This process aims to identify stable features that persist across various levels of detail.\n",
        "\n",
        "2. Keypoint Detection:\n",
        "\n",
        "Within the scale-space pyramid, SIFT searches for potential keypoints – locations in the image that are interesting and have a high likelihood of being unique. It does this by comparing a pixel's value with its neighbors at the current and adjacent scales. If a pixel is significantly brighter or darker than its surroundings across multiple scales, it's considered a potential keypoint candidate.\n",
        "\n",
        "3. Keypoint Refinement:\n",
        "\n",
        "Not all candidate keypoints are created equal. SIFT employs a process called keypoint localization to refine the initial detections and eliminate unstable ones. It uses a quadratic function to fit the neighboring pixel values around the candidate, determining the subpixel location with the most extreme value (maximum or minimum). This ensures precise keypoint localization.\n",
        "\n",
        "4. Orientation Assignment:\n",
        "\n",
        "Images can be rotated, and SIFT needs to account for that. It assigns an orientation to each keypoint to achieve invariance to image rotation. This involves calculating the image gradient (direction and magnitude) in a local neighborhood around the keypoint. A histogram of gradient orientations is then created, and the peak of the histogram is considered the dominant orientation for that keypoint.\n",
        "\n",
        "5. Keypoint Descriptor:\n",
        "\n",
        "Finally, SIFT generates a descriptor for each keypoint. This descriptor captures the keypoint's local image information in a way that is robust to scaling and rotation. It divides the keypoint's neighborhood into smaller subregions and calculates a histogram of gradient orientations within each subregion. This creates a unique \"fingerprint\" that represents the keypoint's surroundings."
      ]
    },
    {
      "cell_type": "markdown",
      "metadata": {
        "id": "A1-1zm1lgCxS"
      },
      "source": [
        "Strengths of SIFT:\n",
        "\n",
        "Robustness: SIFT is highly resistant to scaling, rotation, and illumination changes, making it a versatile tool for real-world applications.\n",
        "Distinctive Features: SIFT descriptors are effective at capturing unique local image information, leading to reliable matching across different images.\n",
        "Widely Used: SIFT is a well-established algorithm with extensive research and documentation, making it a popular choice in computer vision tasks.\n",
        "\n",
        "Weaknesses of SIFT:\n",
        "\n",
        "Computational Cost: Compared to faster alternatives like ORB, SIFT can be computationally expensive, especially for high-resolution images.\n",
        "Not Perfect for Deformations: While robust to scaling and rotation, SIFT may struggle with significant image deformations (e.g., stretching)."
      ]
    },
    {
      "cell_type": "markdown",
      "metadata": {
        "id": "G0TZBGYXgCxS"
      },
      "source": [
        "Explanation of SIFT: https://www.youtube.com/watch?v=4AvTMVD9ig0"
      ]
    },
    {
      "cell_type": "markdown",
      "metadata": {
        "id": "13Fnu9NXgCxS"
      },
      "source": [
        "# Basic Example"
      ]
    },
    {
      "cell_type": "code",
      "execution_count": null,
      "metadata": {
        "id": "os49fwD6gCxS"
      },
      "outputs": [],
      "source": [
        "import os\n",
        "\n",
        "images = []\n",
        "images_path = \"TrainingData/Images\"\n",
        "for im in os.listdir(images_path):\n",
        "    if im.endswith(\".jpg\"):\n",
        "        images.append(cv.imread(images_path + \"/\" + im))\n",
        "\n",
        "images = np.array(images)"
      ]
    },
    {
      "cell_type": "code",
      "execution_count": null,
      "metadata": {
        "id": "kqMGXfXegCxS"
      },
      "outputs": [],
      "source": [
        "import cv2 as cv\n",
        "import numpy as np\n",
        "from matplotlib import pyplot as plt\n",
        "\n",
        "\n",
        "def display_sift(img):\n",
        "    img_copy = img.copy()\n",
        "    # Convert greyscale\n",
        "    grey_img = cv.cvtColor(img_copy, cv.COLOR_BGR2GRAY)\n",
        "\n",
        "    # Create a SIFT object\n",
        "    sift = cv.SIFT_create()\n",
        "\n",
        "    # Detect keypoints and compute descriptors\n",
        "    keypoints, descriptors = sift.detectAndCompute(grey_img, None)\n",
        "\n",
        "    # Draw keypoints on the image\n",
        "    img_copy = cv2.drawKeypoints(\n",
        "        grey_img, keypoints, img_copy, flags=cv.DRAW_MATCHES_FLAGS_DRAW_RICH_KEYPOINTS\n",
        "    )\n",
        "\n",
        "    # print(descriptors.shape)\n",
        "    # plt.imshow(img_copy)\n",
        "    # plt.show()\n",
        "    return keypoints, descriptors, img_copy\n",
        "\n",
        "\n",
        "display_sift(images[0])"
      ]
    },
    {
      "cell_type": "code",
      "execution_count": null,
      "metadata": {
        "id": "GrTZaiiLgCxT"
      },
      "outputs": [],
      "source": [
        "display_sift(images[3])"
      ]
    },
    {
      "cell_type": "markdown",
      "metadata": {
        "id": "8zFTtOtHgCxT"
      },
      "source": [
        "# SURF (Speeded-Up Robust Features)\n",
        "SURF (Speeded-Up Robust Features) is a computer vision algorithm designed for fast and robust feature detection and description. It takes inspiration from SIFT (Scale-Invariant Feature Transform) but aims to achieve similar performance with significantly less computational cost. This makes SURF a valuable choice for real-time applications where speed is a critical factor.\n",
        "\n",
        "Here's a breakdown of the key steps involved in SURF:\n",
        "\n",
        "1. Integral Images:\n",
        "\n",
        "Unlike SIFT, which relies on Gaussian filtering at different scales, SURF leverages the concept of integral images. An integral image efficiently stores the sum of pixel intensities above any given location in the original image. This allows for rapid box filter computations at various scales, significantly speeding up feature detection.\n",
        "\n",
        "2. Feature Detection:\n",
        "\n",
        "SURF identifies potential keypoints using a Hessian matrix-based analysis. The Hessian matrix captures the local curvature of the image intensity at a specific location. Keypoints are identified at locations with significant curvature in both horizontal and vertical directions, indicating potential corner-like structures.\n",
        "\n",
        "3. Keypoint Refinement:\n",
        "\n",
        "Similar to SIFT, SURF refines the initially detected keypoints to ensure accuracy. It uses a quadratic function to fit the neighboring pixel values and determine the subpixel location with the most extreme response (maximum or minimum Laplacian value).\n",
        "\n",
        "4. Orientation Assignment:\n",
        "\n",
        "SURF assigns an orientation to each keypoint to achieve invariance to image rotation. It analyzes a circular neighborhood around the keypoint and calculates the summed Haar wavelet responses in different directions. The direction with the strongest response is considered the dominant orientation.\n",
        "\n",
        "5. Keypoint Descriptor:\n",
        "\n",
        "To create a descriptor, SURF divides the keypoint's neighborhood into a circular region with subregions. It then calculates the summed Haar wavelet responses in both horizontal and vertical directions within each subregion. These responses are then weighted based on their position and orientation relative to the keypoint center and dominant orientation.\n",
        "Matching SURF Features:\n",
        "\n",
        "Once you have SURF descriptors for keypoints in two images, the goal is to find corresponding keypoints between them. Similar to SIFT, this is achieved by comparing the descriptor vectors using a metric like Euclidean distance. The keypoints with the most similar descriptors are considered potential matches. Often, a ratio test is employed to ensure reliable matches (similar to SIFT).\n",
        "\n",
        "## Strengths of SURF:\n",
        "\n",
        "Speed: SURF is significantly faster than SIFT, making it suitable for real-time applications.\n",
        "Robustness: While faster than SIFT, SURF still demonstrates good robustness to scaling, rotation, and illumination changes.\n",
        "Simplicity: The underlying concepts of SURF are often considered simpler than SIFT, making it easier to understand and implement.\n",
        "\n",
        "## Weaknesses of SURF:\n",
        "\n",
        "Less Distinctive Descriptors: Compared to SIFT, SURF descriptors might be slightly less distinctive, potentially leading to a higher chance of incorrect matches under challenging conditions.\n",
        "Less Viewpoint Invariance: SURF exhibits lower invariance to viewpoint changes (e.g., large perspective distortions) compared to SIFT.\n",
        "When to Choose SURF:\n",
        "\n",
        "If speed is a critical factor in your application, and you can tolerate a slight trade-off in descriptor distinctiveness, SURF is an excellent choice.\n",
        "For tasks where real-time performance is essential, like object tracking or robot navigation, SURF's speed becomes a significant advantage."
      ]
    },
    {
      "cell_type": "markdown",
      "metadata": {
        "id": "gPQmnJCCgCxY"
      },
      "source": [
        "# SURF is Patented so unable to use"
      ]
    },
    {
      "cell_type": "code",
      "execution_count": null,
      "metadata": {
        "id": "GZNp5gamgCxY"
      },
      "outputs": [],
      "source": [
        "def display_orb(img):\n",
        "    img_copy = img.copy()\n",
        "    # Convert greyscale\n",
        "    grey_img = cv.cvtColor(img_copy, cv.COLOR_BGR2GRAY)\n",
        "\n",
        "    # Create a SIFT object\n",
        "    orb = cv.ORB_create()\n",
        "\n",
        "    # Detect keypoints and compute descriptors\n",
        "    keypoints, descriptors = orb.detectAndCompute(grey_img, None)\n",
        "\n",
        "    # Draw keypoints on the image\n",
        "    img_copy = cv.drawKeypoints(\n",
        "        grey_img, keypoints, img_copy, flags=cv.DRAW_MATCHES_FLAGS_DRAW_RICH_KEYPOINTS\n",
        "    )\n",
        "\n",
        "    # print(descriptors.shape)\n",
        "    # plt.imshow(img_copy)\n",
        "    # plt.show()\n",
        "    return keypoints, descriptors, img_copy\n",
        "\n",
        "\n",
        "display_orb(images[0])\n",
        "display_sift(images[0])"
      ]
    },
    {
      "cell_type": "markdown",
      "metadata": {
        "id": "Pl8HNDrqgCxY"
      },
      "source": [
        "# Feature Matching Strategies\n",
        "\n",
        "## Practice (Code & Visualization)\n",
        "\n",
        "1. Setting the Scene:\n",
        "\n",
        "Load two images.\n",
        "Use your existing SIFT, SURF, or ORB functions to detect keypoints and calculate descriptors on both images.\n",
        "\n",
        "2. Brute-Force Matching Implementation:\n",
        "\n",
        "Use cv2.BFMatcher(), followed by the .match() or .knnMatch() function. Experiment with different distance norms for real-valued and binary descriptors.\n",
        "\n",
        "3. FLANN-Based Matching Implementation:\n",
        "\n",
        "Explore cv2.FlannBasedMatcher(), its index parameters and search parameters\n",
        "Implement knnMatch() to get approximate nearest neighbor matches.\n",
        "\n",
        "4. Visualization:\n",
        "\n",
        "Use cv2.drawMatches() or cv2.drawMatchesKnn() to visualize the matching results. Analyze the differences between Brute-Force and FLANN results."
      ]
    },
    {
      "cell_type": "code",
      "execution_count": null,
      "metadata": {
        "id": "xSfL3pdngCxY"
      },
      "outputs": [],
      "source": [
        "img_1_keypts, img_1_desc, img_1 = display_sift(images[11])\n",
        "img_2_keypts, img_2_desc, img_2 = display_sift(images[4])\n",
        "\n",
        "img_1_orb_keypts, img_1_orb_desc, img_orb_1 = display_orb(images[11])\n",
        "img_2_orb_keypts, img_2_orb_desc, img_orb_2 = display_orb(images[4])\n",
        "\n",
        "# create BFMatcher Object\n",
        "\n",
        "# NORM_HAMMING when using ORB\n",
        "bf = cv.BFMatcher(cv.NORM_HAMMING, crossCheck=True)\n",
        "\n",
        "# Match descriptors.\n",
        "matches = bf.match(img_1_orb_desc, img_2_orb_desc)\n",
        "\n",
        "# Sort them in the order of their distance.\n",
        "matches = sorted(matches, key=lambda x: x.distance)"
      ]
    },
    {
      "cell_type": "code",
      "execution_count": null,
      "metadata": {
        "id": "KZ_i22OjgCxZ"
      },
      "outputs": [],
      "source": [
        "# Draw first 10 matches.\n",
        "img3 = cv.drawMatches(\n",
        "    images[11],\n",
        "    img_1_orb_keypts,\n",
        "    images[4],\n",
        "    img_2_orb_keypts,\n",
        "    matches[:10],\n",
        "    None,\n",
        "    flags=cv.DrawMatchesFlags_NOT_DRAW_SINGLE_POINTS,\n",
        ")\n",
        "\n",
        "display_image(img3)"
      ]
    },
    {
      "cell_type": "code",
      "execution_count": null,
      "metadata": {
        "id": "bwigHGccgCxZ"
      },
      "outputs": [],
      "source": [
        "# SIFT matcher\n",
        "bf = cv.BFMatcher()\n",
        "\n",
        "matches = bf.knnMatch(img_1_desc, img_2_desc, k=2)\n",
        "\n",
        "# Apply ratio test\n",
        "good = []\n",
        "for m, n in matches:\n",
        "    if m.distance < 0.6 * n.distance:\n",
        "        good.append([m])\n",
        "\n",
        "sift_img3 = cv.drawMatchesKnn(\n",
        "    images[11],\n",
        "    img_1_keypts,\n",
        "    images[4],\n",
        "    img_2_keypts,\n",
        "    good,\n",
        "    None,\n",
        "    flags=cv.DrawMatchesFlags_NOT_DRAW_SINGLE_POINTS,\n",
        ")\n",
        "\n",
        "display_image(sift_img3)"
      ]
    },
    {
      "cell_type": "code",
      "execution_count": null,
      "metadata": {
        "id": "Aldcl03OgCxa",
        "outputId": "aae2b557-59c3-430a-befb-7e55171f5cda"
      },
      "outputs": [
        {
          "name": "stdout",
          "output_type": "stream",
          "text": [
            "[[[   0.    0.]]\n",
            "\n",
            " [[   0. 1714.]]\n",
            "\n",
            " [[ 244. 1714.]]\n",
            "\n",
            " [[ 244.    0.]]]\n"
          ]
        },
        {
          "data": {
            "image/png": "[encoded data removed]",
            "text/plain": [
              "<Figure size 640x480 with 1 Axes>"
            ]
          },
          "metadata": {},
          "output_type": "display_data"
        },
        {
          "data": {
            "text/plain": [
              "(<matplotlib.image.AxesImage at 0x7069381e5f00>, None)"
            ]
          },
          "execution_count": 30,
          "metadata": {},
          "output_type": "execute_result"
        }
      ],
      "source": [
        "# FLANN\n",
        "\n",
        "img1 = cv.imread(\"Images/bookbinding.png\")\n",
        "img2 = cv.imread(\"Images/PXL_20240406_214800868.jpg\")\n",
        "\n",
        "kpts, desc, sift = display_sift(img1)\n",
        "kpts2, desc2, sift2 = display_sift(img2)\n",
        "\n",
        "img1 = cv.cvtColor(img1, cv.COLOR_BGR2GRAY)\n",
        "img2 = cv.cvtColor(img2, cv.COLOR_BGR2GRAY)\n",
        "\n",
        "MIN_MATCH_COUNT = 10\n",
        "\n",
        "FLANN_INDEX_KDTREE = 1\n",
        "index_params = dict(algorithm=FLANN_INDEX_KDTREE, trees=5)\n",
        "search_params = dict(checks=50)\n",
        "\n",
        "flann = cv.FlannBasedMatcher(index_params, search_params)\n",
        "\n",
        "matches = flann.knnMatch(desc, desc2, k=2)\n",
        "\n",
        "# store all the good matches as per Lowe's ratio test.\n",
        "good = []\n",
        "for m, n in matches:\n",
        "    if m.distance < 0.7 * n.distance:\n",
        "        good.append(m)\n",
        "\n",
        "if len(good) > MIN_MATCH_COUNT:\n",
        "    src_pts = np.float32([kpts[m.queryIdx].pt for m in good]).reshape(-1, 1, 2)\n",
        "    dst_pts = np.float32([kpts2[m.trainIdx].pt for m in good]).reshape(-1, 1, 2)\n",
        "\n",
        "    M, mask = cv.findHomography(src_pts, dst_pts, cv.RANSAC, 5.0)\n",
        "    matchesMask = mask.ravel().tolist()\n",
        "\n",
        "    h, w = img1.shape\n",
        "    pts = np.float32([[0, 0], [0, h - 1], [w - 1, h - 1], [w - 1, 0]]).reshape(-1, 1, 2)\n",
        "    print(pts)\n",
        "    dst = cv.perspectiveTransform(pts, M)\n",
        "\n",
        "    x_min = int(np.min(dst[:, :, 0]))\n",
        "    x_max = int(np.max(dst[:, :, 0]))\n",
        "    y_min = int(np.min(dst[:, :, 1]))\n",
        "    y_max = int(np.max(dst[:, :, 1]))\n",
        "\n",
        "    img2 = cv2.rectangle(\n",
        "        img2, (x_min, y_min), (x_max, y_max), color=(255, 255, 255), thickness=50\n",
        "    )\n",
        "\n",
        "    # img2 = cv.polylines(img2,[np.int32(dst)],True,255,10, cv.LINE_AA)\n",
        "\n",
        "else:\n",
        "    print(\"Not enough matches are found - {}/{}\".format(len(good), MIN_MATCH_COUNT))\n",
        "    matchesMask = None\n",
        "\n",
        "draw_params = dict(\n",
        "    matchColor=(0, 255, 0),  # draw matches in green color\n",
        "    singlePointColor=None,\n",
        "    matchesMask=matchesMask,  # draw only inliers\n",
        "    flags=2,\n",
        ")\n",
        "\n",
        "img3 = cv.drawMatches(img1, kpts, img2, kpts2, good, None, **draw_params)\n",
        "\n",
        "# cv.imwrite(\"img1.jpg\", img1)\n",
        "# cv.imwrite(\"img2.jpg\", img2)\n",
        "# cv.imwrite(\"img3.jpg\", img3)\n",
        "\n",
        "plt.imshow(img3, \"gray\"), plt.show()"
      ]
    },
    {
      "cell_type": "markdown",
      "metadata": {
        "id": "-hunSXmfgCxa"
      },
      "source": [
        "# Quick side note when looking at OpenCV tutorials\n",
        "## Measuring performance"
      ]
    },
    {
      "cell_type": "code",
      "execution_count": null,
      "metadata": {
        "id": "-3oAtffWgCxa",
        "outputId": "20845ea1-82fe-41f0-925a-ae35c7eba88e"
      },
      "outputs": [
        {
          "name": "stdout",
          "output_type": "stream",
          "text": [
            "1.159e-05\n"
          ]
        }
      ],
      "source": [
        "e1 = cv.getTickCount()\n",
        "# your code execution\n",
        "e2 = cv.getTickCount()\n",
        "time = (e2 - e1) / cv.getTickFrequency()\n",
        "print(time)"
      ]
    },
    {
      "cell_type": "code",
      "execution_count": null,
      "metadata": {
        "id": "DmDcApW_gCxb",
        "outputId": "1e7eed18-8c69-475b-cd7f-0412d1c844a7"
      },
      "outputs": [
        {
          "data": {
            "text/plain": [
              "True"
            ]
          },
          "execution_count": 32,
          "metadata": {},
          "output_type": "execute_result"
        }
      ],
      "source": [
        "cv.useOptimized()"
      ]
    },
    {
      "cell_type": "code",
      "execution_count": null,
      "metadata": {
        "id": "ib45bhNIgCxb"
      },
      "outputs": [],
      "source": [
        "img = images[4].copy()\n",
        "gray = cv.cvtColor(img, cv.COLOR_BGR2GRAY)\n",
        "gray = np.float32(gray)\n",
        "\n",
        "dst = cv.cornerHarris(gray, 2, 3, 0.04)\n",
        "\n",
        "# result is dilated for marking the corners, not important\n",
        "dst = cv.dilate(dst, None)\n",
        "\n",
        "\n",
        "# # Threshold for an optimal value, it may vary depending on the image.\n",
        "img[dst > 0.05 * dst.max()] = [0, 0, 255]\n",
        "\n",
        "display_image(img)"
      ]
    },
    {
      "cell_type": "code",
      "execution_count": null,
      "metadata": {
        "id": "AZQwxPWtgCxb"
      },
      "outputs": [],
      "source": [
        "img = images[4].copy()\n",
        "gray = cv.cvtColor(img, cv.COLOR_BGR2GRAY)\n",
        "\n",
        "corners = cv.goodFeaturesToTrack(gray, 50, 0.01, 5)\n",
        "\n",
        "corners = np.intp(corners)\n",
        "\n",
        "for i in corners:\n",
        "    x, y = i.ravel()\n",
        "    cv.circle(img, (x, y), 3, 255, -1)\n",
        "\n",
        "plt.imshow(img), plt.show()"
      ]
    },
    {
      "cell_type": "markdown",
      "metadata": {
        "id": "gQ9QXwqLgCxc"
      },
      "source": [
        "# Object detection learning path\n",
        "\n",
        "## Object Detection: The Next Frontier\n",
        "\n",
        "Object detection expands upon your existing skills, allowing you to locate and identify specific objects within an image or video. It has vast applications in robotics, self-driving cars, image search, and much more.\n",
        "\n",
        "## Approaches\n",
        "\n",
        "Let's outline some common object detection approaches to guide your learning:\n",
        "\n",
        "1. Traditional Techniques\n",
        "\n",
        "* Sliding Window and Feature Classification: Before the deep learning era, methods involved moving a window over the image and using feature descriptors (e.g., HOG) + classifiers (e.g., SVM) to detect objects within each window.\n",
        "* Pros: Good foundation for understanding object detection principles.\n",
        "* Cons: Often computationally slower and can be less accurate compared to modern methods.\n",
        "\n",
        "2. Deep Learning-based\n",
        "\n",
        "* Region-based CNNs (R-CNN, Fast R-CNN, Faster R-CNN): These models propose regions of interest in the image and then classify objects within those regions.\n",
        "* Single-Shot Detectors (YOLO, SSD): Perform detection and classification in a single pass through a neural network, prioritizing speed.\n",
        "* Pros: State-of-the-art accuracy and, in some cases, real-time performance.\n",
        "* Cons: Require understanding of neural network architectures and training.\n",
        "\n",
        "## Learning Plan:\n",
        "\n",
        "Here's a possible learning path:\n",
        "\n",
        "1. HOG (Histogram of Oriented Gradients): Understand how HOG features summarize gradient information within image patches, often used with SVM classifiers for detection.\n",
        "2. Sliding Window and SVM: Experiment with a basic sliding window approach for object detection (like a book or specific logo).\n",
        "3. Deep Learning Introduction\n",
        "* If new to deep learning: Take a detour into introductory courses or tutorials on neural networks, convolutional neural networks (CNNs), and essential libraries like PyTorch or TensorFlow.\n",
        "* If familiar with basics: Dive into pre-trained models available in PyTorch or TensorFlow for object detection (they provide great starting points).\n",
        "4. Choose a Deep Object Detector: Explore architectures like YOLO or SSD based on your preference for speed vs. accuracy trade-offs.\n",
        "\n",
        "## Project Ideas (To Consolidate Learning)\n",
        "\n",
        "* Real-Time Object Tracker: Combine feature detection with object detection to track a specific object across video frames.\n",
        "* Custom Object Detector: Fine-tune a pre-trained model to detect a unique object not found in standard datasets.\n",
        "* Image Classification vs. Object Detection: Experiment with building both a classifier and a detector and explore when each is more suitable.\n"
      ]
    },
    {
      "cell_type": "code",
      "execution_count": null,
      "metadata": {
        "id": "vhMD_6LAgCxc",
        "outputId": "c9cdc3c8-9117-4395-c38c-033561ce6833"
      },
      "outputs": [
        {
          "name": "stdout",
          "output_type": "stream",
          "text": [
            "(6824916,)\n"
          ]
        }
      ],
      "source": [
        "# Create a HOGDescriptor object with parameters\n",
        "hog = cv.HOGDescriptor((64, 64), (16, 16), (8, 8), (8, 8), 9)\n",
        "\n",
        "# Calculate HOG descriptors\n",
        "descriptors = hog.compute(images[0])\n",
        "print(descriptors.shape)"
      ]
    },
    {
      "cell_type": "code",
      "execution_count": null,
      "metadata": {
        "id": "7kWYmDoPgCxc",
        "outputId": "0f119e06-498c-46ba-fc23-f5ad069f4cfe"
      },
      "outputs": [
        {
          "data": {
            "image/png": "[encoded data removed]",
            "text/plain": [
              "<Figure size 640x480 with 1 Axes>"
            ]
          },
          "metadata": {},
          "output_type": "display_data"
        }
      ],
      "source": [
        "plt.hist(descriptors)\n",
        "plt.show()"
      ]
    },
    {
      "cell_type": "markdown",
      "metadata": {
        "id": "_OpAWg5MgCxc"
      },
      "source": [
        "# Making a small project to detect license plates using HOG\n",
        "\n",
        "## Workflow Outline\n",
        "\n",
        "1. Data Preparation:\n",
        "\n",
        "* Positive Images: Gather images that contain the object you want to detect (e.g., numerous images of a book).\n",
        "* Negative Images: Collect images that do not contain your target object (these will represent background or other objects).\n",
        "\n",
        "2. HOG Feature Calculation:\n",
        "\n",
        "* Iterate over your positive and negative images, calculating HOG descriptors for each.\n",
        "* Important: Ensure your HOG parameters are well-suited to capturing the characteristics of your object.\n",
        "\n",
        "3. Labels: Create labels corresponding to each HOG descriptor:\n",
        "\n",
        "* Positive examples get a label of 1\n",
        "* Negative examples get a label of 0 (or -1 depending on SVM library conventions).\n",
        "\n",
        "4. SVM Training:\n",
        "\n",
        "* Choose an SVM implementation (OpenCV or scikit-learn).\n",
        "* Train your SVM classifier using the HOG features as input and the corresponding labels.\n",
        "\n",
        "5. Sliding Window Detection:\n",
        "\n",
        "* On a new image, use a sliding window of the same size as your training images.\n",
        "* At each window position, calculate the HOG descriptor.\n",
        "* Feed this descriptor to your SVM classifier.\n",
        "* If the SVM predicts the 'positive' class, draw a bounding box at that window's location."
      ]
    },
    {
      "cell_type": "code",
      "execution_count": null,
      "metadata": {
        "id": "BnOmUiO1gCxd"
      },
      "outputs": [],
      "source": [
        "# Collect images of license plates and negative images of cars without license plates\n",
        "\n",
        "# Collect images and resize so they are all the same.\n",
        "image_dir = \"Images/\"\n",
        "\n",
        "lps = []\n",
        "neg_lps = []\n",
        "test_image = None\n",
        "for fname in os.listdir(image_dir):\n",
        "    image = cv.resize(cv.imread(image_dir + fname), dsize=(640, 480))\n",
        "    if fname.startswith(\"LP\"):\n",
        "        lps.append(image)\n",
        "    elif fname.startswith(\"neg\"):\n",
        "        neg_lps.append(image)\n",
        "    elif fname == \"car_with_license_plate.jpg\":\n",
        "        test_image = image\n",
        "\n",
        "lps = np.array(lps)\n",
        "neg_lps = np.array(neg_lps)"
      ]
    },
    {
      "cell_type": "code",
      "execution_count": null,
      "metadata": {
        "id": "MEjEEf56gCxd"
      },
      "outputs": [],
      "source": [
        "# 2 Calculate HOG features\n",
        "window_size = (64, 128)\n",
        "block_size = (16, 16)\n",
        "block_stride = (8, 8)\n",
        "cell_size = (8, 8)\n",
        "nbins = 9\n",
        "# Create a HOGDescriptor object with parameters\n",
        "hog = cv.HOGDescriptor(window_size, block_size, block_stride, cell_size, nbins)\n",
        "\n",
        "lps_desc = []\n",
        "for x in lps:\n",
        "    x = cv.cvtColor(x, cv.COLOR_BGR2GRAY)\n",
        "    lps_desc.append(hog.compute(x))\n",
        "\n",
        "neg_desc = []\n",
        "for x in neg_lps:\n",
        "    x = cv.cvtColor(x, cv.COLOR_BGR2GRAY)\n",
        "    neg_desc.append(hog.compute(x))\n",
        "\n",
        "all_desc = np.vstack(lps_desc + neg_desc)\n",
        "labels = np.array([1, 1, 1, 0, 0, 0])\n",
        "\n",
        "test_image_grey = cv.cvtColor(test_image, cv.COLOR_BGR2GRAY)\n",
        "\n",
        "test_image_desc = hog.compute(test_image_grey)"
      ]
    },
    {
      "cell_type": "code",
      "execution_count": null,
      "metadata": {
        "id": "l_Wb1ygagCxd",
        "outputId": "f711c009-43b5-43e3-a43c-228c4ab61f9d"
      },
      "outputs": [
        {
          "data": {
            "text/html": [
              "<style>#sk-container-id-4 {\n",
              "  /* Definition of color scheme common for light and dark mode */\n",
              "  --sklearn-color-text: black;\n",
              "  --sklearn-color-line: gray;\n",
              "  /* Definition of color scheme for unfitted estimators */\n",
              "  --sklearn-color-unfitted-level-0: #fff5e6;\n",
              "  --sklearn-color-unfitted-level-1: #f6e4d2;\n",
              "  --sklearn-color-unfitted-level-2: #ffe0b3;\n",
              "  --sklearn-color-unfitted-level-3: chocolate;\n",
              "  /* Definition of color scheme for fitted estimators */\n",
              "  --sklearn-color-fitted-level-0: #f0f8ff;\n",
              "  --sklearn-color-fitted-level-1: #d4ebff;\n",
              "  --sklearn-color-fitted-level-2: #b3dbfd;\n",
              "  --sklearn-color-fitted-level-3: cornflowerblue;\n",
              "\n",
              "  /* Specific color for light theme */\n",
              "  --sklearn-color-text-on-default-background: var(--sg-text-color, var(--theme-code-foreground, var(--jp-content-font-color1, black)));\n",
              "  --sklearn-color-background: var(--sg-background-color, var(--theme-background, var(--jp-layout-color0, white)));\n",
              "  --sklearn-color-border-box: var(--sg-text-color, var(--theme-code-foreground, var(--jp-content-font-color1, black)));\n",
              "  --sklearn-color-icon: #696969;\n",
              "\n",
              "  @media (prefers-color-scheme: dark) {\n",
              "    /* Redefinition of color scheme for dark theme */\n",
              "    --sklearn-color-text-on-default-background: var(--sg-text-color, var(--theme-code-foreground, var(--jp-content-font-color1, white)));\n",
              "    --sklearn-color-background: var(--sg-background-color, var(--theme-background, var(--jp-layout-color0, #111)));\n",
              "    --sklearn-color-border-box: var(--sg-text-color, var(--theme-code-foreground, var(--jp-content-font-color1, white)));\n",
              "    --sklearn-color-icon: #878787;\n",
              "  }\n",
              "}\n",
              "\n",
              "#sk-container-id-4 {\n",
              "  color: var(--sklearn-color-text);\n",
              "}\n",
              "\n",
              "#sk-container-id-4 pre {\n",
              "  padding: 0;\n",
              "}\n",
              "\n",
              "#sk-container-id-4 input.sk-hidden--visually {\n",
              "  border: 0;\n",
              "  clip: rect(1px 1px 1px 1px);\n",
              "  clip: rect(1px, 1px, 1px, 1px);\n",
              "  height: 1px;\n",
              "  margin: -1px;\n",
              "  overflow: hidden;\n",
              "  padding: 0;\n",
              "  position: absolute;\n",
              "  width: 1px;\n",
              "}\n",
              "\n",
              "#sk-container-id-4 div.sk-dashed-wrapped {\n",
              "  border: 1px dashed var(--sklearn-color-line);\n",
              "  margin: 0 0.4em 0.5em 0.4em;\n",
              "  box-sizing: border-box;\n",
              "  padding-bottom: 0.4em;\n",
              "  background-color: var(--sklearn-color-background);\n",
              "}\n",
              "\n",
              "#sk-container-id-4 div.sk-container {\n",
              "  /* jupyter's `normalize.less` sets `[hidden] { display: none; }`\n",
              "     but bootstrap.min.css set `[hidden] { display: none !important; }`\n",
              "     so we also need the `!important` here to be able to override the\n",
              "     default hidden behavior on the sphinx rendered scikit-learn.org.\n",
              "     See: https://github.com/scikit-learn/scikit-learn/issues/21755 */\n",
              "  display: inline-block !important;\n",
              "  position: relative;\n",
              "}\n",
              "\n",
              "#sk-container-id-4 div.sk-text-repr-fallback {\n",
              "  display: none;\n",
              "}\n",
              "\n",
              "div.sk-parallel-item,\n",
              "div.sk-serial,\n",
              "div.sk-item {\n",
              "  /* draw centered vertical line to link estimators */\n",
              "  background-image: linear-gradient(var(--sklearn-color-text-on-default-background), var(--sklearn-color-text-on-default-background));\n",
              "  background-size: 2px 100%;\n",
              "  background-repeat: no-repeat;\n",
              "  background-position: center center;\n",
              "}\n",
              "\n",
              "/* Parallel-specific style estimator block */\n",
              "\n",
              "#sk-container-id-4 div.sk-parallel-item::after {\n",
              "  content: \"\";\n",
              "  width: 100%;\n",
              "  border-bottom: 2px solid var(--sklearn-color-text-on-default-background);\n",
              "  flex-grow: 1;\n",
              "}\n",
              "\n",
              "#sk-container-id-4 div.sk-parallel {\n",
              "  display: flex;\n",
              "  align-items: stretch;\n",
              "  justify-content: center;\n",
              "  background-color: var(--sklearn-color-background);\n",
              "  position: relative;\n",
              "}\n",
              "\n",
              "#sk-container-id-4 div.sk-parallel-item {\n",
              "  display: flex;\n",
              "  flex-direction: column;\n",
              "}\n",
              "\n",
              "#sk-container-id-4 div.sk-parallel-item:first-child::after {\n",
              "  align-self: flex-end;\n",
              "  width: 50%;\n",
              "}\n",
              "\n",
              "#sk-container-id-4 div.sk-parallel-item:last-child::after {\n",
              "  align-self: flex-start;\n",
              "  width: 50%;\n",
              "}\n",
              "\n",
              "#sk-container-id-4 div.sk-parallel-item:only-child::after {\n",
              "  width: 0;\n",
              "}\n",
              "\n",
              "/* Serial-specific style estimator block */\n",
              "\n",
              "#sk-container-id-4 div.sk-serial {\n",
              "  display: flex;\n",
              "  flex-direction: column;\n",
              "  align-items: center;\n",
              "  background-color: var(--sklearn-color-background);\n",
              "  padding-right: 1em;\n",
              "  padding-left: 1em;\n",
              "}\n",
              "\n",
              "\n",
              "/* Toggleable style: style used for estimator/Pipeline/ColumnTransformer box that is\n",
              "clickable and can be expanded/collapsed.\n",
              "- Pipeline and ColumnTransformer use this feature and define the default style\n",
              "- Estimators will overwrite some part of the style using the `sk-estimator` class\n",
              "*/\n",
              "\n",
              "/* Pipeline and ColumnTransformer style (default) */\n",
              "\n",
              "#sk-container-id-4 div.sk-toggleable {\n",
              "  /* Default theme specific background. It is overwritten whether we have a\n",
              "  specific estimator or a Pipeline/ColumnTransformer */\n",
              "  background-color: var(--sklearn-color-background);\n",
              "}\n",
              "\n",
              "/* Toggleable label */\n",
              "#sk-container-id-4 label.sk-toggleable__label {\n",
              "  cursor: pointer;\n",
              "  display: block;\n",
              "  width: 100%;\n",
              "  margin-bottom: 0;\n",
              "  padding: 0.5em;\n",
              "  box-sizing: border-box;\n",
              "  text-align: center;\n",
              "}\n",
              "\n",
              "#sk-container-id-4 label.sk-toggleable__label-arrow:before {\n",
              "  /* Arrow on the left of the label */\n",
              "  content: \"▸\";\n",
              "  float: left;\n",
              "  margin-right: 0.25em;\n",
              "  color: var(--sklearn-color-icon);\n",
              "}\n",
              "\n",
              "#sk-container-id-4 label.sk-toggleable__label-arrow:hover:before {\n",
              "  color: var(--sklearn-color-text);\n",
              "}\n",
              "\n",
              "/* Toggleable content - dropdown */\n",
              "\n",
              "#sk-container-id-4 div.sk-toggleable__content {\n",
              "  max-height: 0;\n",
              "  max-width: 0;\n",
              "  overflow: hidden;\n",
              "  text-align: left;\n",
              "  /* unfitted */\n",
              "  background-color: var(--sklearn-color-unfitted-level-0);\n",
              "}\n",
              "\n",
              "#sk-container-id-4 div.sk-toggleable__content.fitted {\n",
              "  /* fitted */\n",
              "  background-color: var(--sklearn-color-fitted-level-0);\n",
              "}\n",
              "\n",
              "#sk-container-id-4 div.sk-toggleable__content pre {\n",
              "  margin: 0.2em;\n",
              "  border-radius: 0.25em;\n",
              "  color: var(--sklearn-color-text);\n",
              "  /* unfitted */\n",
              "  background-color: var(--sklearn-color-unfitted-level-0);\n",
              "}\n",
              "\n",
              "#sk-container-id-4 div.sk-toggleable__content.fitted pre {\n",
              "  /* unfitted */\n",
              "  background-color: var(--sklearn-color-fitted-level-0);\n",
              "}\n",
              "\n",
              "#sk-container-id-4 input.sk-toggleable__control:checked~div.sk-toggleable__content {\n",
              "  /* Expand drop-down */\n",
              "  max-height: 200px;\n",
              "  max-width: 100%;\n",
              "  overflow: auto;\n",
              "}\n",
              "\n",
              "#sk-container-id-4 input.sk-toggleable__control:checked~label.sk-toggleable__label-arrow:before {\n",
              "  content: \"▾\";\n",
              "}\n",
              "\n",
              "/* Pipeline/ColumnTransformer-specific style */\n",
              "\n",
              "#sk-container-id-4 div.sk-label input.sk-toggleable__control:checked~label.sk-toggleable__label {\n",
              "  color: var(--sklearn-color-text);\n",
              "  background-color: var(--sklearn-color-unfitted-level-2);\n",
              "}\n",
              "\n",
              "#sk-container-id-4 div.sk-label.fitted input.sk-toggleable__control:checked~label.sk-toggleable__label {\n",
              "  background-color: var(--sklearn-color-fitted-level-2);\n",
              "}\n",
              "\n",
              "/* Estimator-specific style */\n",
              "\n",
              "/* Colorize estimator box */\n",
              "#sk-container-id-4 div.sk-estimator input.sk-toggleable__control:checked~label.sk-toggleable__label {\n",
              "  /* unfitted */\n",
              "  background-color: var(--sklearn-color-unfitted-level-2);\n",
              "}\n",
              "\n",
              "#sk-container-id-4 div.sk-estimator.fitted input.sk-toggleable__control:checked~label.sk-toggleable__label {\n",
              "  /* fitted */\n",
              "  background-color: var(--sklearn-color-fitted-level-2);\n",
              "}\n",
              "\n",
              "#sk-container-id-4 div.sk-label label.sk-toggleable__label,\n",
              "#sk-container-id-4 div.sk-label label {\n",
              "  /* The background is the default theme color */\n",
              "  color: var(--sklearn-color-text-on-default-background);\n",
              "}\n",
              "\n",
              "/* On hover, darken the color of the background */\n",
              "#sk-container-id-4 div.sk-label:hover label.sk-toggleable__label {\n",
              "  color: var(--sklearn-color-text);\n",
              "  background-color: var(--sklearn-color-unfitted-level-2);\n",
              "}\n",
              "\n",
              "/* Label box, darken color on hover, fitted */\n",
              "#sk-container-id-4 div.sk-label.fitted:hover label.sk-toggleable__label.fitted {\n",
              "  color: var(--sklearn-color-text);\n",
              "  background-color: var(--sklearn-color-fitted-level-2);\n",
              "}\n",
              "\n",
              "/* Estimator label */\n",
              "\n",
              "#sk-container-id-4 div.sk-label label {\n",
              "  font-family: monospace;\n",
              "  font-weight: bold;\n",
              "  display: inline-block;\n",
              "  line-height: 1.2em;\n",
              "}\n",
              "\n",
              "#sk-container-id-4 div.sk-label-container {\n",
              "  text-align: center;\n",
              "}\n",
              "\n",
              "/* Estimator-specific */\n",
              "#sk-container-id-4 div.sk-estimator {\n",
              "  font-family: monospace;\n",
              "  border: 1px dotted var(--sklearn-color-border-box);\n",
              "  border-radius: 0.25em;\n",
              "  box-sizing: border-box;\n",
              "  margin-bottom: 0.5em;\n",
              "  /* unfitted */\n",
              "  background-color: var(--sklearn-color-unfitted-level-0);\n",
              "}\n",
              "\n",
              "#sk-container-id-4 div.sk-estimator.fitted {\n",
              "  /* fitted */\n",
              "  background-color: var(--sklearn-color-fitted-level-0);\n",
              "}\n",
              "\n",
              "/* on hover */\n",
              "#sk-container-id-4 div.sk-estimator:hover {\n",
              "  /* unfitted */\n",
              "  background-color: var(--sklearn-color-unfitted-level-2);\n",
              "}\n",
              "\n",
              "#sk-container-id-4 div.sk-estimator.fitted:hover {\n",
              "  /* fitted */\n",
              "  background-color: var(--sklearn-color-fitted-level-2);\n",
              "}\n",
              "\n",
              "/* Specification for estimator info (e.g. \"i\" and \"?\") */\n",
              "\n",
              "/* Common style for \"i\" and \"?\" */\n",
              "\n",
              ".sk-estimator-doc-link,\n",
              "a:link.sk-estimator-doc-link,\n",
              "a:visited.sk-estimator-doc-link {\n",
              "  float: right;\n",
              "  font-size: smaller;\n",
              "  line-height: 1em;\n",
              "  font-family: monospace;\n",
              "  background-color: var(--sklearn-color-background);\n",
              "  border-radius: 1em;\n",
              "  height: 1em;\n",
              "  width: 1em;\n",
              "  text-decoration: none !important;\n",
              "  margin-left: 1ex;\n",
              "  /* unfitted */\n",
              "  border: var(--sklearn-color-unfitted-level-1) 1pt solid;\n",
              "  color: var(--sklearn-color-unfitted-level-1);\n",
              "}\n",
              "\n",
              ".sk-estimator-doc-link.fitted,\n",
              "a:link.sk-estimator-doc-link.fitted,\n",
              "a:visited.sk-estimator-doc-link.fitted {\n",
              "  /* fitted */\n",
              "  border: var(--sklearn-color-fitted-level-1) 1pt solid;\n",
              "  color: var(--sklearn-color-fitted-level-1);\n",
              "}\n",
              "\n",
              "/* On hover */\n",
              "div.sk-estimator:hover .sk-estimator-doc-link:hover,\n",
              ".sk-estimator-doc-link:hover,\n",
              "div.sk-label-container:hover .sk-estimator-doc-link:hover,\n",
              ".sk-estimator-doc-link:hover {\n",
              "  /* unfitted */\n",
              "  background-color: var(--sklearn-color-unfitted-level-3);\n",
              "  color: var(--sklearn-color-background);\n",
              "  text-decoration: none;\n",
              "}\n",
              "\n",
              "div.sk-estimator.fitted:hover .sk-estimator-doc-link.fitted:hover,\n",
              ".sk-estimator-doc-link.fitted:hover,\n",
              "div.sk-label-container:hover .sk-estimator-doc-link.fitted:hover,\n",
              ".sk-estimator-doc-link.fitted:hover {\n",
              "  /* fitted */\n",
              "  background-color: var(--sklearn-color-fitted-level-3);\n",
              "  color: var(--sklearn-color-background);\n",
              "  text-decoration: none;\n",
              "}\n",
              "\n",
              "/* Span, style for the box shown on hovering the info icon */\n",
              ".sk-estimator-doc-link span {\n",
              "  display: none;\n",
              "  z-index: 9999;\n",
              "  position: relative;\n",
              "  font-weight: normal;\n",
              "  right: .2ex;\n",
              "  padding: .5ex;\n",
              "  margin: .5ex;\n",
              "  width: min-content;\n",
              "  min-width: 20ex;\n",
              "  max-width: 50ex;\n",
              "  color: var(--sklearn-color-text);\n",
              "  box-shadow: 2pt 2pt 4pt #999;\n",
              "  /* unfitted */\n",
              "  background: var(--sklearn-color-unfitted-level-0);\n",
              "  border: .5pt solid var(--sklearn-color-unfitted-level-3);\n",
              "}\n",
              "\n",
              ".sk-estimator-doc-link.fitted span {\n",
              "  /* fitted */\n",
              "  background: var(--sklearn-color-fitted-level-0);\n",
              "  border: var(--sklearn-color-fitted-level-3);\n",
              "}\n",
              "\n",
              ".sk-estimator-doc-link:hover span {\n",
              "  display: block;\n",
              "}\n",
              "\n",
              "/* \"?\"-specific style due to the `<a>` HTML tag */\n",
              "\n",
              "#sk-container-id-4 a.estimator_doc_link {\n",
              "  float: right;\n",
              "  font-size: 1rem;\n",
              "  line-height: 1em;\n",
              "  font-family: monospace;\n",
              "  background-color: var(--sklearn-color-background);\n",
              "  border-radius: 1rem;\n",
              "  height: 1rem;\n",
              "  width: 1rem;\n",
              "  text-decoration: none;\n",
              "  /* unfitted */\n",
              "  color: var(--sklearn-color-unfitted-level-1);\n",
              "  border: var(--sklearn-color-unfitted-level-1) 1pt solid;\n",
              "}\n",
              "\n",
              "#sk-container-id-4 a.estimator_doc_link.fitted {\n",
              "  /* fitted */\n",
              "  border: var(--sklearn-color-fitted-level-1) 1pt solid;\n",
              "  color: var(--sklearn-color-fitted-level-1);\n",
              "}\n",
              "\n",
              "/* On hover */\n",
              "#sk-container-id-4 a.estimator_doc_link:hover {\n",
              "  /* unfitted */\n",
              "  background-color: var(--sklearn-color-unfitted-level-3);\n",
              "  color: var(--sklearn-color-background);\n",
              "  text-decoration: none;\n",
              "}\n",
              "\n",
              "#sk-container-id-4 a.estimator_doc_link.fitted:hover {\n",
              "  /* fitted */\n",
              "  background-color: var(--sklearn-color-fitted-level-3);\n",
              "}\n",
              "</style><div id=\"sk-container-id-4\" class=\"sk-top-container\"><div class=\"sk-text-repr-fallback\"><pre>SVC(kernel=&#x27;linear&#x27;)</pre><b>In a Jupyter environment, please rerun this cell to show the HTML representation or trust the notebook. <br />On GitHub, the HTML representation is unable to render, please try loading this page with nbviewer.org.</b></div><div class=\"sk-container\" hidden><div class=\"sk-item\"><div class=\"sk-estimator fitted sk-toggleable\"><input class=\"sk-toggleable__control sk-hidden--visually\" id=\"sk-estimator-id-4\" type=\"checkbox\" checked><label for=\"sk-estimator-id-4\" class=\"sk-toggleable__label fitted sk-toggleable__label-arrow fitted\">&nbsp;&nbsp;SVC<a class=\"sk-estimator-doc-link fitted\" rel=\"noreferrer\" target=\"_blank\" href=\"https://scikit-learn.org/1.4/modules/generated/sklearn.svm.SVC.html\">?<span>Documentation for SVC</span></a><span class=\"sk-estimator-doc-link fitted\">i<span>Fitted</span></span></label><div class=\"sk-toggleable__content fitted\"><pre>SVC(kernel=&#x27;linear&#x27;)</pre></div> </div></div></div></div>"
            ],
            "text/plain": [
              "SVC(kernel='linear')"
            ]
          },
          "execution_count": 50,
          "metadata": {},
          "output_type": "execute_result"
        }
      ],
      "source": [
        "# 4 training\n",
        "from sklearn import svm\n",
        "\n",
        "svm_model = svm.SVC(kernel=\"linear\")\n",
        "svm_model.fit(all_desc, labels)"
      ]
    },
    {
      "cell_type": "code",
      "execution_count": null,
      "metadata": {
        "id": "Z9QJJ8W7gCxd"
      },
      "outputs": [],
      "source": [
        "def sliding_window(image, window_size, step_size):\n",
        "    for y in range(0, image.shape[0], step_size):\n",
        "        for x in range(0, image.shape[1], step_size):\n",
        "            yield (x, y, image[y : y + window_size[1], x : x + window_size[0]])\n",
        "\n",
        "\n",
        "detections = []\n",
        "DECISION_THRESHOLD = 0.6\n",
        "\n",
        "for x, y, window in sliding_window(test_image_grey, window_size, 10):\n",
        "    if window.shape[0] != window_size[1] or window.shape[1] != window_size[0]:\n",
        "        continue\n",
        "    # window = cv.cvtColor(window, cv.COLOR_BGR2GRAY)\n",
        "    hog_descriptor = hog.compute(window)\n",
        "    hog_descriptor = hog_descriptor.reshape(1, -1)\n",
        "    prediction = svm_model.predict(hog_descriptor)\n",
        "    if prediction == 1:\n",
        "        conf_score = svm_model.decision_function(hog_descriptor)\n",
        "        if conf_score > DECISION_THRESHOLD:\n",
        "            print(\"Detection:: Location -> ({}, {})\".format(x, y))\n",
        "            print(\"Confidence Score {} \\n\".format(conf_score))\n",
        "            # create a list of all the predictions found\n",
        "            detections.append(\n",
        "                (int(x), int(y), conf_score, int(windowSize[0]), int(windowSize[1]))\n",
        "            )\n",
        "\n",
        "for x_tl, y_tl, _, w, h in detections:\n",
        "    cv2.rectangle(\n",
        "        test_image_grey, (x_tl, y_tl), (x_tl + w, y_tl + h), (255, 0, 0), thickness=5\n",
        "    )\n",
        "\n",
        "rects = np.array(\n",
        "    [[x, y, x + w, y + h] for (x, y, _, w, h) in detections]\n",
        ")  # do nms on the detected bounding boxes\n",
        "sc = [score[0] for (x, y, score, w, h) in detections]\n",
        "print(\"detection confidence score: \", sc)\n",
        "# sc = np.array(sc)\n",
        "# pick = non_max_suppression(rects, probs = sc, overlapThresh = 0.3)"
      ]
    },
    {
      "cell_type": "markdown",
      "metadata": {
        "id": "P34PMUXUgCxe"
      },
      "source": [
        "# Inspect this code to understand the next part"
      ]
    }
  ],
  "metadata": {
    "colab": {
      "provenance": []
    },
    "kernelspec": {
      "display_name": "Python 3 (ipykernel)",
      "language": "python",
      "name": "python3"
    },
    "language_info": {
      "codemirror_mode": {
        "name": "ipython",
        "version": 3
      },
      "file_extension": ".py",
      "mimetype": "text/x-python",
      "name": "python",
      "nbconvert_exporter": "python",
      "pygments_lexer": "ipython3",
      "version": "3.10.12"
    }
  },
  "nbformat": 4,
  "nbformat_minor": 0
}