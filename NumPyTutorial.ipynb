{
  "nbformat": 4,
  "nbformat_minor": 0,
  "metadata": {
    "colab": {
      "provenance": [],
      "authorship_tag": "ABX9TyOWUN3NzHsooTg6EfGsovsI",
      "include_colab_link": true
    },
    "kernelspec": {
      "name": "python3",
      "display_name": "Python 3"
    },
    "language_info": {
      "name": "python"
    }
  },
  "cells": [
    {
      "cell_type": "markdown",
      "metadata": {
        "id": "view-in-github",
        "colab_type": "text"
      },
      "source": [
        "<a href=\"https://colab.research.google.com/github/kragtenb/SelfDriving-RC-deep-learning/blob/main/NumPyTutorial.ipynb\" target=\"_parent\"><img src=\"https://colab.research.google.com/assets/colab-badge.svg\" alt=\"Open In Colab\"/></a>"
      ]
    },
    {
      "cell_type": "markdown",
      "source": [
        "# Notes\n",
        "\n",
        "## Arrays\n",
        "*   To make a 1D array you could use np.array([1, 2, 3 ,4])\n",
        "* To fill with zeros use np.zeros((3,4)) this would be a 3x4 array of zeros\n",
        "* Arange can be used to fill numbers like np.arange(5, 15, 2) for [5, 7, 9, 11, 13]\n",
        "\n"
      ],
      "metadata": {
        "id": "xFnwEUC8swYk"
      }
    },
    {
      "cell_type": "code",
      "source": [],
      "metadata": {
        "id": "bel5CxhXtQko"
      },
      "execution_count": null,
      "outputs": []
    }
  ]
}