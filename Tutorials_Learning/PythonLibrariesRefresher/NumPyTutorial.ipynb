{
 "nbformat": 4,
 "nbformat_minor": 0,
 "metadata": {
  "colab": {
   "provenance": [],
   "authorship_tag": "ABX9TyNRD6pmqw9OXdkEfJSkqwgR",
   "include_colab_link": true
  },
  "kernelspec": {
   "name": "python3",
   "display_name": "Python 3"
  },
  "language_info": {
   "name": "python"
  }
 },
 "cells": [
  {
   "cell_type": "markdown",
   "metadata": {
    "id": "view-in-github",
    "colab_type": "text"
   },
   "source": [
    "<a href=\"https://colab.research.google.com/github/kragtenb/SelfDriving-RC-deep-learning/blob/main/NumPyTutorial.ipynb\" target=\"_parent\"><img src=\"https://colab.research.google.com/assets/colab-badge.svg\" alt=\"Open In Colab\"/></a>"
   ]
  },
  {
   "cell_type": "markdown",
   "source": [
    "# 1. Arrays and Array Creation\n",
    "\n",
    "## Arrays\n",
    "*   To make a 1D array you could use np.array([1, 2, 3 ,4])\n",
    "* To fill with zeros use np.zeros((3,4)) this would be a 3x4 array of zeros\n",
    "* Arange can be used to fill numbers like np.arange(5, 15, 2) for [5, 7, 9, 11, 13]\n",
    "* Operations on arrays will be done element wise\n",
    "** array1 + array2\n",
    "* Single Elements; array[row_index, column_index]\n",
    "* Slicing array[start:end] End is not included\n",
    "* reshape array. Elements number must not change\n",
    "** array.reshape((new_rows, new_columns)) Note requires tuple.\n",
    "\n"
   ],
   "metadata": {
    "id": "xFnwEUC8swYk"
   }
  },
  {
   "cell_type": "markdown",
   "source": [
    "# Practice Tasks\n",
    "\n",
    "Create Multidimensional Arrays:\n",
    "1. Create a 3x3 NumPy array of all 5s.\n",
    "2. Create a 2x3x4 array (2 layers, each layer has a 3x4 shape) with values from 1 to 24, sequentially.\n",
    "\n",
    "arange() variations:\n",
    "1. Generate numbers from 10 to 1 (descending) with a step of -2.\n",
    "2. Create an array with 8 evenly spaced values between 0 and 1 (look into np.linspace())."
   ],
   "metadata": {
    "id": "Iyld3vp9yTVL"
   }
  },
  {
   "cell_type": "markdown",
   "source": [
    "# 1. Create a 3x3 NumPy array of all 5s."
   ],
   "metadata": {
    "id": "GaHa_mkuytji"
   }
  },
  {
   "cell_type": "code",
   "source": [
    "import numpy as np\n",
    "\n",
    "array_of_fives = np.zeros((3, 3), dtype=\"int\")\n",
    "array_of_fives[:] = 5\n",
    "print(array_of_fives)\n",
    "\n",
    "all_fives = np.ones((3, 3)) * 5\n",
    "print(all_fives)"
   ],
   "metadata": {
    "id": "bel5CxhXtQko",
    "outputId": "a155b59b-df83-47e1-afbb-8ff5cb46f6aa",
    "colab": {
     "base_uri": "https://localhost:8080/"
    }
   },
   "execution_count": 18,
   "outputs": [
    {
     "output_type": "stream",
     "name": "stdout",
     "text": [
      "[[5 5 5]\n",
      " [5 5 5]\n",
      " [5 5 5]]\n",
      "[[5. 5. 5.]\n",
      " [5. 5. 5.]\n",
      " [5. 5. 5.]]\n"
     ]
    }
   ]
  },
  {
   "cell_type": "markdown",
   "source": [
    "# 2. Create a 2x3x4 array (2 layers, each layer has a 3x4 shape) with values from 1 to 24, sequentially."
   ],
   "metadata": {
    "id": "peXa1AiLzrfD"
   }
  },
  {
   "cell_type": "code",
   "source": [
    "import numpy as np\n",
    "\n",
    "one_through_twenty_four = np.arange(1, 25, 1)\n",
    "reshaped_array = one_through_twenty_four.reshape((2, 3, 4))\n",
    "print(reshaped_array)"
   ],
   "metadata": {
    "id": "YV55F31szBzs",
    "outputId": "8c523e3f-3926-4b1e-a56d-dfcc57fb2b2f",
    "colab": {
     "base_uri": "https://localhost:8080/"
    }
   },
   "execution_count": 15,
   "outputs": [
    {
     "output_type": "stream",
     "name": "stdout",
     "text": [
      "[[[ 1  2  3  4]\n",
      "  [ 5  6  7  8]\n",
      "  [ 9 10 11 12]]\n",
      "\n",
      " [[13 14 15 16]\n",
      "  [17 18 19 20]\n",
      "  [21 22 23 24]]]\n"
     ]
    },
    {
     "output_type": "execute_result",
     "data": {
      "text/plain": [
       "1"
      ]
     },
     "metadata": {},
     "execution_count": 15
    }
   ]
  },
  {
   "cell_type": "markdown",
   "source": [
    "# 1. Generate numbers from 10 to 1 (descending) with a step of -2."
   ],
   "metadata": {
    "id": "fzoAEhFm0aDa"
   }
  },
  {
   "cell_type": "code",
   "source": [
    "import numpy as np\n",
    "\n",
    "np.arange(10, 1, -2)"
   ],
   "metadata": {
    "id": "wcgurp-80G5E",
    "outputId": "fc52a663-6b38-4cdf-802d-9ee66b6f228a",
    "colab": {
     "base_uri": "https://localhost:8080/"
    }
   },
   "execution_count": 16,
   "outputs": [
    {
     "output_type": "execute_result",
     "data": {
      "text/plain": [
       "array([10,  8,  6,  4,  2])"
      ]
     },
     "metadata": {},
     "execution_count": 16
    }
   ]
  },
  {
   "cell_type": "markdown",
   "source": [
    "# 2. Create an array with 8 evenly spaced values between 0 and 1 (look into np.linspace())."
   ],
   "metadata": {
    "id": "0SY_OAXt0rzD"
   }
  },
  {
   "cell_type": "code",
   "source": [
    "import numpy as np\n",
    "\n",
    "np.linspace(0, 1, num=8)"
   ],
   "metadata": {
    "id": "ZKbZNMFZ0nDT",
    "outputId": "64543892-81f3-48f8-a515-e26b82455efe",
    "colab": {
     "base_uri": "https://localhost:8080/"
    }
   },
   "execution_count": 19,
   "outputs": [
    {
     "output_type": "execute_result",
     "data": {
      "text/plain": [
       "array([0.        , 0.14285714, 0.28571429, 0.42857143, 0.57142857,\n",
       "       0.71428571, 0.85714286, 1.        ])"
      ]
     },
     "metadata": {},
     "execution_count": 19
    }
   ]
  },
  {
   "cell_type": "markdown",
   "source": [
    "# Day 2: Array Properties and Operations\n",
    "\n",
    "##Array Stats:\n",
    "\n",
    "1. Create a NumPy array with some values (both positive and negative)."
   ],
   "metadata": {
    "id": "uLtQ_gAQ2fgR"
   }
  },
  {
   "cell_type": "code",
   "source": [
    "values = np.array([1, -5, 3, -2, 8, -10])"
   ],
   "metadata": {
    "id": "Vcb2v7sM3QEm"
   },
   "execution_count": 22,
   "outputs": []
  },
  {
   "cell_type": "markdown",
   "source": [
    "2. Calculate the mean, minimum, maximum, and standard deviation of this array using NumPy functions (search for relevant 'np' functions)."
   ],
   "metadata": {
    "id": "RL9gWbxX3Ry6"
   }
  },
  {
   "cell_type": "code",
   "source": [
    "print(f\"Mean {values.mean()}\")\n",
    "print(f\"Min {values.min()}\")\n",
    "print(f\"Max {values.max()}\")\n",
    "print(f\"Std {values.std()}\")"
   ],
   "metadata": {
    "id": "PvM6C02n3hDi",
    "outputId": "ffee647b-a2aa-4997-f3f9-11e51f28dded",
    "colab": {
     "base_uri": "https://localhost:8080/"
    }
   },
   "execution_count": 23,
   "outputs": [
    {
     "output_type": "stream",
     "name": "stdout",
     "text": [
      "Mean -0.8333333333333334\n",
      "Min -10\n",
      "Max 8\n",
      "Std 5.7566386797235145\n"
     ]
    }
   ]
  },
  {
   "cell_type": "markdown",
   "source": [
    "## Reshaping Manipulation\n",
    "\n",
    "1. Create a 1D array of 10 elements."
   ],
   "metadata": {
    "id": "15vy2KcW3Ubz"
   }
  },
  {
   "cell_type": "code",
   "source": [
    "array_ten = np.linspace(1, 10, num=10)\n",
    "array_ten"
   ],
   "metadata": {
    "id": "rpAQHfuQ3qka",
    "outputId": "7053749f-cbc7-47f6-a98f-663125fcac24",
    "colab": {
     "base_uri": "https://localhost:8080/"
    }
   },
   "execution_count": 29,
   "outputs": [
    {
     "output_type": "execute_result",
     "data": {
      "text/plain": [
       "array([ 1.,  2.,  3.,  4.,  5.,  6.,  7.,  8.,  9., 10.])"
      ]
     },
     "metadata": {},
     "execution_count": 29
    }
   ]
  },
  {
   "cell_type": "markdown",
   "source": [
    "2. Reshape it into a 2x5 array."
   ],
   "metadata": {
    "id": "-lGumOQP3mow"
   }
  },
  {
   "cell_type": "code",
   "source": [
    "array_ten = array_ten.reshape((2, 5))\n",
    "array_ten"
   ],
   "metadata": {
    "id": "MX6TNaD13qPE",
    "outputId": "19d044b0-fc45-4945-b8bb-344f7b617abe",
    "colab": {
     "base_uri": "https://localhost:8080/"
    }
   },
   "execution_count": 30,
   "outputs": [
    {
     "output_type": "execute_result",
     "data": {
      "text/plain": [
       "array([[ 1.,  2.,  3.,  4.,  5.],\n",
       "       [ 6.,  7.,  8.,  9., 10.]])"
      ]
     },
     "metadata": {},
     "execution_count": 30
    }
   ]
  },
  {
   "cell_type": "markdown",
   "source": [
    "3. Reshape it back into a 1D array."
   ],
   "metadata": {
    "id": "jnomI6sq3oRw"
   }
  },
  {
   "cell_type": "code",
   "source": [
    "array_ten = array_ten.reshape((1, 10))\n",
    "array_ten"
   ],
   "metadata": {
    "id": "jEZ5VG6S3pvg",
    "outputId": "248eccb8-795d-4070-e799-a556353a850b",
    "colab": {
     "base_uri": "https://localhost:8080/"
    }
   },
   "execution_count": 32,
   "outputs": [
    {
     "output_type": "execute_result",
     "data": {
      "text/plain": [
       "array([[ 1.,  2.,  3.,  4.,  5.,  6.,  7.,  8.,  9., 10.]])"
      ]
     },
     "metadata": {},
     "execution_count": 32
    }
   ]
  },
  {
   "cell_type": "markdown",
   "source": [
    "## Advanced Arithmetic\n",
    "\n",
    "1. Create two arrays of different shapes but compatible for broadcasting (refer to the brief mention of broadcasting earlier if needed)."
   ],
   "metadata": {
    "id": "9Q-5CkT-3rXC"
   }
  },
  {
   "cell_type": "code",
   "source": [
    "array_1 = np.array([1, 2, 3, 4])\n",
    "array_2 = np.array([[1, 1, 1, 1], [2, 2, 2, 2], [3, 3, 3, 3], [4, 4, 4, 4]])\n",
    "\n",
    "print(array_1.shape)\n",
    "print(array_2.shape)\n",
    "\n",
    "print(array_1 * array_2)"
   ],
   "metadata": {
    "id": "a3ezYC2C3vpy",
    "outputId": "0160fbba-2c3b-4f01-86be-7ef55adc5b05",
    "colab": {
     "base_uri": "https://localhost:8080/"
    }
   },
   "execution_count": 50,
   "outputs": [
    {
     "output_type": "stream",
     "name": "stdout",
     "text": [
      "(4,)\n",
      "(4, 4)\n",
      "[[ 1  2  3  4]\n",
      " [ 2  4  6  8]\n",
      " [ 3  6  9 12]\n",
      " [ 4  8 12 16]]\n"
     ]
    }
   ]
  },
  {
   "cell_type": "markdown",
   "source": [
    "2. Try adding and multiplying the arrays together."
   ],
   "metadata": {
    "id": "iX_eCYFF3vxX"
   }
  },
  {
   "cell_type": "code",
   "source": [
    "print(array_2 * array_1)"
   ],
   "metadata": {
    "id": "L9f-wgRJ3yMR"
   },
   "execution_count": null,
   "outputs": []
  },
  {
   "cell_type": "markdown",
   "source": [
    "# Indexing, Slicing, and Reshaping!\n",
    "\n"
   ],
   "metadata": {
    "id": "kATKGrgfT_wS"
   }
  },
  {
   "cell_type": "code",
   "source": [
    "my_2d_array = np.array([[1, 2, 3], [4, 5, 6]])"
   ],
   "metadata": {
    "id": "O3XeKYsLUara"
   },
   "execution_count": 51,
   "outputs": []
  },
  {
   "cell_type": "code",
   "source": [
    "my_2d_array[0:2, 0:2]"
   ],
   "metadata": {
    "id": "9l4TZ439UbDm",
    "outputId": "7cb2ddff-2a1d-46a5-a965-08eddad3ec75",
    "colab": {
     "base_uri": "https://localhost:8080/"
    }
   },
   "execution_count": 52,
   "outputs": [
    {
     "output_type": "execute_result",
     "data": {
      "text/plain": [
       "array([[1, 2],\n",
       "       [4, 5]])"
      ]
     },
     "metadata": {},
     "execution_count": 52
    }
   ]
  },
  {
   "cell_type": "markdown",
   "source": [
    "# Practice\n",
    "\n",
    "Image Manipulation:\n",
    "\n",
    "1. Create a simple NumPy array representing an image with pixel values ranging from 0 to 255.\n",
    "\n",
    "2. Select a smaller section of your \"image\" (as if you were cropping).\n",
    "\n",
    "3. Invert the colors of a certain region (replace values by 255 - value)."
   ],
   "metadata": {
    "id": "lC0ibic3UnPo"
   }
  },
  {
   "cell_type": "code",
   "source": [
    "import random\n",
    "\n",
    "image = np.random.randint(1, 256, (256, 256))\n",
    "image"
   ],
   "metadata": {
    "id": "2ZB9cobeUxtC",
    "outputId": "4d9ebba7-fbd9-43a0-f63b-3c6c5c3c7d24",
    "colab": {
     "base_uri": "https://localhost:8080/"
    }
   },
   "execution_count": 55,
   "outputs": [
    {
     "output_type": "execute_result",
     "data": {
      "text/plain": [
       "array([[118, 215, 156, ..., 247,   7, 156],\n",
       "       [ 29,  31, 164, ..., 250,  63, 127],\n",
       "       [ 58, 233, 158, ..., 137,  70,  86],\n",
       "       ...,\n",
       "       [ 85, 179,  39, ..., 239,  90,  33],\n",
       "       [ 85,  53, 101, ...,  48,  56,  32],\n",
       "       [228,  48, 162, ...,  12,   2,  82]])"
      ]
     },
     "metadata": {},
     "execution_count": 55
    }
   ]
  },
  {
   "cell_type": "code",
   "source": [
    "crop_bottom_3x3 = image[-3:, -3:]\n",
    "crop_bottom_3x3"
   ],
   "metadata": {
    "id": "G6f8BcIWVMzo",
    "outputId": "07a80c88-64b8-448a-b5d9-baaf60a396c0",
    "colab": {
     "base_uri": "https://localhost:8080/"
    }
   },
   "execution_count": 59,
   "outputs": [
    {
     "output_type": "execute_result",
     "data": {
      "text/plain": [
       "array([[239,  90,  33],\n",
       "       [ 48,  56,  32],\n",
       "       [ 12,   2,  82]])"
      ]
     },
     "metadata": {},
     "execution_count": 59
    }
   ]
  },
  {
   "cell_type": "code",
   "source": [
    "crop_bottom_3x3 = 255 - crop_bottom_3x3\n",
    "crop_bottom_3x3"
   ],
   "metadata": {
    "id": "92bpg-8dVzr8",
    "outputId": "f3bc9fe1-0eb6-4c3d-9a62-3724908f2163",
    "colab": {
     "base_uri": "https://localhost:8080/"
    }
   },
   "execution_count": 60,
   "outputs": [
    {
     "output_type": "execute_result",
     "data": {
      "text/plain": [
       "array([[ 16, 165, 222],\n",
       "       [207, 199, 223],\n",
       "       [243, 253, 173]])"
      ]
     },
     "metadata": {},
     "execution_count": 60
    }
   ]
  },
  {
   "cell_type": "code",
   "source": [
    "image[-3:, -3:] = crop_bottom_3x3\n",
    "image"
   ],
   "metadata": {
    "id": "Pm8mhqcKV7dE",
    "outputId": "e46bed60-934b-4509-b51c-d8a5e7b0558d",
    "colab": {
     "base_uri": "https://localhost:8080/"
    }
   },
   "execution_count": 61,
   "outputs": [
    {
     "output_type": "execute_result",
     "data": {
      "text/plain": [
       "array([[118, 215, 156, ..., 247,   7, 156],\n",
       "       [ 29,  31, 164, ..., 250,  63, 127],\n",
       "       [ 58, 233, 158, ..., 137,  70,  86],\n",
       "       ...,\n",
       "       [ 85, 179,  39, ...,  16, 165, 222],\n",
       "       [ 85,  53, 101, ..., 207, 199, 223],\n",
       "       [228,  48, 162, ..., 243, 253, 173]])"
      ]
     },
     "metadata": {},
     "execution_count": 61
    }
   ]
  },
  {
   "cell_type": "markdown",
   "source": [
    "# Striding:\n",
    "\n",
    "1. Create a 1D NumPy array.\n",
    "2. Use slicing with a step to select every other element.\n",
    "3. Reverse the order of the elements in the array using slicing."
   ],
   "metadata": {
    "id": "MIWRRCyfWGWm"
   }
  },
  {
   "cell_type": "code",
   "source": [
    "array = np.random.randint(1, 50, 20)\n",
    "array"
   ],
   "metadata": {
    "id": "Qko5B08nWOcx",
    "outputId": "9b07f05a-98d8-4f98-ea54-332ce5fc773f",
    "colab": {
     "base_uri": "https://localhost:8080/"
    }
   },
   "execution_count": 63,
   "outputs": [
    {
     "output_type": "execute_result",
     "data": {
      "text/plain": [
       "array([15, 35, 45, 29, 19, 29, 23, 27, 39, 43, 23, 39, 11, 20,  6, 22, 24,\n",
       "       16, 26, 19])"
      ]
     },
     "metadata": {},
     "execution_count": 63
    }
   ]
  },
  {
   "cell_type": "code",
   "source": [
    "array[1::2]"
   ],
   "metadata": {
    "id": "6Hy36icaWW3f",
    "outputId": "8dc041e5-dba5-47eb-b84d-8f3470d7e277",
    "colab": {
     "base_uri": "https://localhost:8080/"
    }
   },
   "execution_count": 66,
   "outputs": [
    {
     "output_type": "execute_result",
     "data": {
      "text/plain": [
       "array([35, 29, 29, 27, 43, 39, 20, 22, 16, 19])"
      ]
     },
     "metadata": {},
     "execution_count": 66
    }
   ]
  },
  {
   "cell_type": "code",
   "source": [
    "array[-1::-1]"
   ],
   "metadata": {
    "id": "E8547g-7Wk7d",
    "outputId": "02a6619f-cc12-4055-ecb1-581677ab037d",
    "colab": {
     "base_uri": "https://localhost:8080/"
    }
   },
   "execution_count": 74,
   "outputs": [
    {
     "output_type": "execute_result",
     "data": {
      "text/plain": [
       "array([19, 26, 16, 24, 22,  6, 20, 11, 39, 23, 43, 39, 27, 23, 29, 19, 29,\n",
       "       45, 35, 15])"
      ]
     },
     "metadata": {},
     "execution_count": 74
    }
   ]
  }
 ]
}